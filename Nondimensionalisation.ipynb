{
 "cells": [
  {
   "cell_type": "markdown",
   "metadata": {},
   "source": [
    "# Dimensional 3D Transient Heat Equation\n",
    "$$\\rho c_p \\frac{\\partial T}{\\partial t} = k \\left( \\frac{\\partial^2 T}{\\partial x^2} + \\frac{\\partial^2 T}{\\partial y^2} + \\frac{\\partial^2 T}{\\partial z^2} \\right)$$\n",
    "<center>or</center> \n",
    "<mark style=\"color: #0078d4\">\n",
    "\n",
    "$$\\frac{\\partial T}{\\partial t} = \\alpha \\left( \\frac{\\partial^2 T}{\\partial x^2} + \\frac{\\partial^2 T}{\\partial y^2} + \\frac{\\partial^2 T}{\\partial z^2} \\right)$$\n",
    "</mark>\n",
    "\n",
    "<center>where</center> \n",
    "\n",
    "$$ \\alpha = \\frac {k}{\\rho c_p}$$"
   ]
  },
  {
   "cell_type": "markdown",
   "metadata": {},
   "source": [
    "# Nondimensional Parameters\n",
    "\n",
    "$T = f(x,y,z,t,T_{init}, T_{ref,top}, T_{ref,bot},h_{top},h_{bot},\\alpha) \\implies$ 11 Physical variables\n",
    "\n",
    "Length, Time, Temperature, Mass $\\implies$ 4 Physical dimensions\n",
    "\n",
    "Therefore the 7 $\\small Π$ parameters are:\n",
    "$$X = \\frac x H$$ \n",
    "$$Y = \\frac y {\\sigma H}$$ \n",
    "$$Z = \\frac z {\\beta H}$$\n",
    "$$\\tau = \\frac {\\alpha t} {L^2}$$\n",
    "$$Bi_{top} = \\frac {h_{top}L} {k}$$\n",
    "$$Bi_{bot} = \\frac {h_{bot}L} {k}$$\n",
    "$$\\theta = \\frac {T - T_{ref,bot}} {T_{ref,top} - T_{ref,bot}}$$\n",
    "\n",
    "$$\\left[H = \\frac {\\text{L}} 2, \\; \\sigma = \\frac {\\text{Width}} {\\text{L}}, \\; \\beta = \\frac {\\text{Depth}} {\\text{L}}\\right]$$\n",
    "\n",
    "\\\n",
    "This means the nondimensional function reduces to $\\theta = F(X,Y,Z,\\tau,Bi_{top},Bi_{bot})$"
   ]
  },
  {
   "cell_type": "markdown",
   "metadata": {},
   "source": [
    "# Nondimensional Equation\n",
    "θ can be substituted directly for T as it appears on both sides of the equation.\n",
    "\n",
    "$$\\implies \\frac{\\partial \\theta}{\\partial t} = \\alpha \\left( \\frac{\\partial^2 \\theta}{\\partial x^2} + \\frac{\\partial^2 \\theta}{\\partial y^2} + \\frac{\\partial^2 \\theta}{\\partial z^2} \\right)$$\n",
    "\n",
    "X, Y, Z can substitute in with the following rearrangements:\n",
    "$$x^2 = \\frac {X^2L^2} 4, \\; y^2 = \\frac {Y^2\\sigma^2L^2} 4, \\; z^2 = \\frac {Z^2\\beta^2L^2} 4, $$\n",
    "\n",
    "$$\\implies \\frac{\\partial \\theta}{\\partial t} = \\frac {4\\alpha} {L^2} \\left( \\frac{\\partial^2 \\theta}{\\partial X^2} + \\frac 1 {\\sigma^2} \\frac{\\partial^2 \\theta}{\\partial Y^2} + \\frac 1 {\\beta^2} \\frac{\\partial^2 \\theta}{\\partial Z^2} \\right)$$\n",
    "\n",
    "The final substitution of $t = \\frac {\\tau L^2} {\\alpha}$ results in the final equation:\n",
    "\n",
    "<mark style=\"color: #0078d4\">\n",
    "\n",
    "$$\\frac{\\partial \\theta}{\\partial \\tau} = 4\\left( \\frac{\\partial^2 \\theta}{\\partial X^2} + \\frac 1 {\\sigma^2} \\frac{\\partial^2 \\theta}{\\partial Y^2} + \\frac 1 {\\beta^2} \\frac{\\partial^2 \\theta}{\\partial Z^2} \\right)$$\n",
    "\n",
    "</mark>"
   ]
  },
  {
   "cell_type": "markdown",
   "metadata": {},
   "source": [
    "# Boundary Conditions\n",
    "\n",
    "The x and y surfaces are adiabatic whilst z experiences forced convective heat transfer, leading to the following system of equations:\n",
    "\n",
    "$$\\left.\\frac{\\partial T}{\\partial x}\\right|_{x=\\pm 1} = 0$$\n",
    "$$\\left.\\frac{\\partial T}{\\partial y}\\right|_{y=\\pm\\sigma} = 0$$\n",
    "$$\\left.\\frac{\\partial T}{\\partial z}\\right|_{z=\\beta} = -h_{top}(T-T_{ref,top})$$\n",
    "$$\\left.\\frac{\\partial T}{\\partial z}\\right|_{z=-\\beta} = h_{bot}(T-T_{ref,bot})$$\n",
    "$$T(x,y,z,0) = T_{init}$$\n"
   ]
  }
 ],
 "metadata": {
  "language_info": {
   "name": "python"
  }
 },
 "nbformat": 4,
 "nbformat_minor": 2
}
